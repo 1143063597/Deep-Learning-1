{
 "cells": [
  {
   "cell_type": "markdown",
   "metadata": {},
   "source": [
    "<table width='100%'>\n",
    "<tr>\n",
    "<td style='background-color:white'>\n",
    "    <p align=\"left\">\n",
    "    Exercises for the course<br>\n",
    "        <b>Deep Learning 1</b><br>\n",
    "    Winter Semester 2022/23\n",
    "    </p>\n",
    "</td>\n",
    "<td style='background-color:white'>\n",
    "    Machine Learning Group<br>\n",
    "    <b>Faculty IV – Electrical Engineering and Computer Science</b><br>\n",
    "    Technische Universität Berlin\n",
    "</td>\n",
    "</tr>\n",
    "</table>\n",
    "\n",
    "<br>\n",
    "<center>\n",
    "    <h1>Exercise Sheet 1-2 (programming part)</h1>\n",
    "</center>\n",
    "<br>\n",
    "\n",
    "In this homework, our goal is to test different approaches to implement neural networks. Here, we will be focusing on programming forward and backward computations. Training neural networks will be done in the next homework. The neural network we consider is depicted below:\n",
    "\n",
    "![](files/net.svg.png)"
   ]
  },
  {
   "cell_type": "markdown",
   "metadata": {},
   "source": [
    "## Part 1: Implementing of Backpropagation (10 P)\n",
    "\n",
    "The following code implements the forward pass of this network in numpy. Here, you are asked to implement the backward pass, and obtain the gradient with respect to the weight and bias parameters."
   ]
  },
  {
   "cell_type": "code",
   "execution_count": 1,
   "metadata": {
    "ExecuteTime": {
     "end_time": "2022-10-28T14:02:41.160404Z",
     "start_time": "2022-10-28T14:02:40.698413Z"
    }
   },
   "outputs": [
    {
     "name": "stdout",
     "output_type": "stream",
     "text": [
      "(1, 4)\n",
      "(4, 6)\n",
      "(6,)\n",
      "(1, 4)\n"
     ]
    }
   ],
   "source": [
    "import numpy,utils\n",
    "\n",
    "# 1. Get the data and parameters\n",
    "\n",
    "X,T = utils.getdata()\n",
    "W,B = utils.getparams()\n",
    "A = [X]\n",
    "\n",
    "print(X.shape)\n",
    "print(W[0].shape)\n",
    "print(B[0].shape)\n",
    "print(A[0].shape)"
   ]
  },
  {
   "cell_type": "code",
   "execution_count": 2,
   "metadata": {
    "ExecuteTime": {
     "end_time": "2022-10-28T14:02:41.175404Z",
     "start_time": "2022-10-28T14:02:41.161407Z"
    }
   },
   "outputs": [
    {
     "name": "stdout",
     "output_type": "stream",
     "text": [
      "[[1.8248556]]\n"
     ]
    }
   ],
   "source": [
    "# 2. Run the forward pass\n",
    "\n",
    "for i in range(3): A.append(numpy.maximum(0,A[-1].dot(W[i])+B[i]))\n",
    "Y = A[-1].dot(W[3])+B[3]\n",
    "\n",
    "print(Y)\n",
    "\n",
    "# 3. Compute the error\n",
    "\n",
    "err = ((Y-T)**2).mean()"
   ]
  },
  {
   "cell_type": "code",
   "execution_count": 3,
   "metadata": {
    "ExecuteTime": {
     "end_time": "2022-10-28T14:02:41.190653Z",
     "start_time": "2022-10-28T14:02:41.177407Z"
    }
   },
   "outputs": [
    {
     "name": "stdout",
     "output_type": "stream",
     "text": [
      "2.3207258674765145\n"
     ]
    }
   ],
   "source": [
    "# 4. Error backpropagation (TODO: replace by your code)\n",
    "# import solution\n",
    "# DW,DB = solution.exercise1(W,B,A,Y,T)\n",
    "import numpy as np\n",
    "\n",
    "DW = np.zeros((4, 4, 6))\n",
    "DB = np.zeros((4, 6, ))\n",
    "\n",
    "err_Y = 2 * (Y-T).mean()\n",
    "output = err_Y\n",
    "\n",
    "\n",
    "def backward(x, d_loss):\n",
    "    relu_mask = (x > 0)\n",
    "    dx = d_loss * relu_mask\n",
    "    return dx\n",
    "\n",
    "DW[3] = A[3] * err_Y\n",
    "for i in range(2, -1, -1):\n",
    "    # print(backward(A[i] @ W[i] + B[i], A[i+1]).shape)\n",
    "    DW[i] = backward(A[i] @ W[i] + B[i], A[i+1]) * (A[i+1] @ W[i+1])\n",
    "    # DB[i] = DW[i+1]@ relu\n",
    "# 5. Show error gradient w.r.t. the 1st weight parameter\n",
    "\n",
    "print(numpy.linalg.norm(DW[0][0,0]))"
   ]
  },
  {
   "cell_type": "markdown",
   "metadata": {},
   "source": [
    "## Part 2: Using Automatic Differentiation (10 P)\n",
    "\n",
    "Because gradient computation can be error-prone, we often rely on libraries that incorporate automatic differentiation. In this exercise, we make use of the PyTorch library. You are then asked to compute the error of the neural network within that framework, which will then be automatically differentiated."
   ]
  },
  {
   "cell_type": "code",
   "execution_count": 4,
   "metadata": {
    "ExecuteTime": {
     "end_time": "2022-10-28T14:02:42.671478Z",
     "start_time": "2022-10-28T14:02:41.192654Z"
    }
   },
   "outputs": [
    {
     "name": "stderr",
     "output_type": "stream",
     "text": [
      "c:\\users\\87290\\appdata\\local\\programs\\python\\python37\\lib\\site-packages\\tqdm\\auto.py:22: TqdmWarning: IProgress not found. Please update jupyter and ipywidgets. See https://ipywidgets.readthedocs.io/en/stable/user_install.html\n",
      "  from .autonotebook import tqdm as notebook_tqdm\n"
     ]
    },
    {
     "name": "stdout",
     "output_type": "stream",
     "text": [
      "1.5422821\n"
     ]
    }
   ],
   "source": [
    "import torch\n",
    "import torch.nn as nn\n",
    "\n",
    "# 1. Get the data and parameters\n",
    "\n",
    "X,T = utils.getdata()\n",
    "W,B = utils.getparams()\n",
    "\n",
    "# 2. Convert to PyTorch objects\n",
    "\n",
    "X = torch.Tensor(X)\n",
    "T = torch.Tensor(T)\n",
    "W = [nn.Parameter(torch.Tensor(w)) for w in W]\n",
    "B = [nn.Parameter(torch.Tensor(b)) for b in B]\n",
    "\n",
    "# 3. Compute the forward pass and the error (TODO: replace by your code)\n",
    "input_from_prev = X \n",
    "relu = nn.ReLU()\n",
    "\n",
    "for i in range(3):\n",
    "    output = relu(input_from_prev @ W[i] + B[i])\n",
    "    input_from_prev = output\n",
    "    \n",
    "err = ((input_from_prev @ W[3] + B[3] - T)**2).mean()\n",
    "\n",
    "# 4. Apply automatic differentiation\n",
    "\n",
    "err.backward()\n",
    "\n",
    "# 5. Show error gradient w.r.t. the 1st weight parameter\n",
    "\n",
    "print(numpy.linalg.norm(W[0].grad[0,0]))"
   ]
  },
  {
   "cell_type": "markdown",
   "metadata": {},
   "source": [
    "## Part 3: Object-Oriented Implementation (10 P)\n",
    "\n",
    "As a last exercise, we would like to make use of existing neural network objects of the PyTorch library. Here, most of the code is already implemented for you. You are only asked to find where the error gradient of the first weight parameter has been stored, and to print it."
   ]
  },
  {
   "cell_type": "code",
   "execution_count": 5,
   "metadata": {
    "ExecuteTime": {
     "end_time": "2022-10-28T14:02:42.687481Z",
     "start_time": "2022-10-28T14:02:42.672483Z"
    }
   },
   "outputs": [
    {
     "name": "stdout",
     "output_type": "stream",
     "text": [
      "tensor([[ 8.3554,  0.0000, 11.9176,  0.0000,  0.0000, 14.5717]])\n",
      "tensor([4.8077])\n",
      "8.355421\n"
     ]
    }
   ],
   "source": [
    "import torch\n",
    "import torch.nn as nn\n",
    "\n",
    "\n",
    "# 1. Get the data and parameters\n",
    "\n",
    "X,T = utils.getdata()\n",
    "W,B = utils.getparams()\n",
    "\n",
    "# 2. Convert to PyTorch objects\n",
    "\n",
    "X = torch.Tensor(X)\n",
    "T = torch.Tensor(T)\n",
    "W = [torch.nn.Parameter(torch.Tensor(w.T)) for w in W]\n",
    "B = [torch.nn.Parameter(torch.Tensor(b)) for b in B]\n",
    "\n",
    "# 3. Build the neural network\n",
    "\n",
    "net = torch.nn.Sequential(\n",
    "          nn.Linear(4,6),nn.ReLU(),\n",
    "          nn.Linear(6,6),nn.ReLU(),\n",
    "          nn.Linear(6,6),nn.ReLU(),\n",
    "          nn.Linear(6,1))\n",
    "\n",
    "for l,w,b in zip(list(net)[::2],W,B):\n",
    "    l.weight = w\n",
    "    l.bias = b\n",
    "    \n",
    "# 4. Compute the forward pass and the error gradient\n",
    "\n",
    "Y = net.forward(X)\n",
    "err = ((Y-T)**2).mean()\n",
    "err.backward()\n",
    "\n",
    "# 5. Show error gradient w.r.t. the 1st weight parameter (TODO: replace by your code)\n",
    "print(l.weight.grad)\n",
    "print(l.bias.grad)\n",
    "print(np.linalg.norm(l.weight.grad[0,0]))"
   ]
  }
 ],
 "metadata": {
  "kernelspec": {
   "display_name": "Python 3 (ipykernel)",
   "language": "python",
   "name": "python3"
  },
  "language_info": {
   "codemirror_mode": {
    "name": "ipython",
    "version": 3
   },
   "file_extension": ".py",
   "mimetype": "text/x-python",
   "name": "python",
   "nbconvert_exporter": "python",
   "pygments_lexer": "ipython3",
   "version": "3.7.0"
  },
  "latex_envs": {
   "LaTeX_envs_menu_present": true,
   "autoclose": false,
   "autocomplete": true,
   "bibliofile": "biblio.bib",
   "cite_by": "apalike",
   "current_citInitial": 1,
   "eqLabelWithNumbers": true,
   "eqNumInitial": 1,
   "hotkeys": {
    "equation": "Ctrl-E",
    "itemize": "Ctrl-I"
   },
   "labels_anchors": false,
   "latex_user_defs": false,
   "report_style_numbering": false,
   "user_envs_cfg": false
  }
 },
 "nbformat": 4,
 "nbformat_minor": 1
}
